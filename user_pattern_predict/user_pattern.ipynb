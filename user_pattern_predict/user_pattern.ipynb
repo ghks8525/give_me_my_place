{
 "cells": [
  {
   "cell_type": "code",
   "execution_count": 38,
   "metadata": {},
   "outputs": [
    {
     "name": "stdout",
     "output_type": "stream",
     "text": [
      "[[   3.    6.  543. 1029.]\n",
      " [   3.    4. 1073. 1325.]\n",
      " [   3.    7.  548. 1024.]\n",
      " ...\n",
      " [   3.    5. 1070. 1311.]\n",
      " [   3.    2. 1075. 1323.]\n",
      " [   3.    4. 1072. 1316.]]\n"
     ]
    }
   ],
   "source": [
    "import tensorflow as tf\n",
    "import tensorflow.compat.v1 as tf\n",
    "tf.disable_v2_behavior()\n",
    "\n",
    "import numpy as np\n",
    "from pandas.io.parsers import read_csv\n",
    "\n",
    "# model=tf.global_variables_initializer()\n",
    "\n",
    "model=tf.keras.models.Sequential()\n",
    "\n",
    "#csv 파일 읽어오기\n",
    "data=read_csv('user_pattern.csv',sep=',')\n",
    "\n",
    "#xy 변수에 행렬 형태로 변수 담아옴.\n",
    "xy=np.array(data,dtype=np.float32)\n",
    "print(xy)"
   ]
  },
  {
   "cell_type": "code",
   "execution_count": 41,
   "metadata": {},
   "outputs": [
    {
     "name": "stdout",
     "output_type": "stream",
     "text": [
      "# 0 cost: 10099304.0\n",
      "-끝난시간:  [-1111.6039]\n",
      "# 100 cost: 1643859.2\n",
      "-끝난시간:  [-29.284609]\n",
      "# 200 cost: 292643.8\n",
      "-끝난시간:  [403.37915]\n",
      "# 300 cost: 76713.42\n",
      "-끝난시간:  [576.33997]\n",
      "# 400 cost: 42206.438\n",
      "-끝난시간:  [645.4831]\n",
      "# 500 cost: 36691.688\n",
      "-끝난시간:  [673.1244]\n",
      "# 600 cost: 35809.96\n",
      "-끝난시간:  [684.1757]\n",
      "# 700 cost: 35668.68\n",
      "-끝난시간:  [688.5945]\n",
      "# 800 cost: 35645.684\n",
      "-끝난시간:  [690.3621]\n",
      "# 900 cost: 35641.62\n",
      "-끝난시간:  [691.0702]\n",
      "[[  6. 540.]]\n",
      "[[687.48773]]\n",
      "학습된 모델 저장 완료\n"
     ]
    }
   ],
   "source": [
    "x_data=xy[:,1:-1]\n",
    "y_data=xy[:,[-1]]\n",
    "\n",
    "#값 초기화\n",
    "X=tf.placeholder(np.float32, shape=[None,2])\n",
    "Y=tf.placeholder(np.float32,shape=[None,1])\n",
    "W=tf.Variable(tf.random_normal([2,1]),name=\"weight\") #가중치\n",
    "b=tf.Variable(tf.random_normal([1]),name=\"bias\") #바이어스\n",
    "\n",
    "# 가설을 설정합니다.\n",
    "hypothesis = tf.matmul(X, W) + b\n",
    "\n",
    "# model.add(tf.keras.layers.Dense(1, input_dim=4)\n",
    "# sgd=tf.keras.optimizers.SGD(learning_rate=0.000005)\n",
    "# model.fit(x_data,y_data,epochs=2000)\n",
    "\n",
    "\n",
    "# #가설식 새우기. 행열 연산\n",
    "# @tf.function\n",
    "# def forward(X):\n",
    "#     return tf.matmul(X,W)+b\n",
    "\n",
    "\n",
    "\n",
    "#비용함수 설정\n",
    "cost=tf.reduce_mean(tf.square(hypothesis-Y))\n",
    "\n",
    "#최적화 함수 설정(학습률:0.000005) 학습률은 데이터 정제의 정도이나, 유형에 따라 다르게 설정\n",
    "optimizer=tf.train.GradientDescentOptimizer(learning_rate=0.000000005)\n",
    "train=optimizer.minimize(cost)\n",
    "\n",
    "#세션값 만들어서 세션에 따라 학습 수행\n",
    "sess=tf.Session()\n",
    "sess.run(tf.global_variables_initializer())\n",
    "\n",
    "#20번마다 진행 상황 확인 위해 진행값 출력\n",
    "for step in range(1000):\n",
    "    cost_,hypo_,_=sess.run([cost,hypothesis,train], feed_dict={X:x_data, Y:y_data})\n",
    "    if step%100==0:\n",
    "        print(\"#\",step,\"cost:\",cost_)\n",
    "        print(\"-끝난시간: \",hypo_[0])\n",
    "\n",
    "data=((6,540),)\n",
    "arr=np.array(data,dtype=np.float32)\n",
    "\n",
    "x_data=arr[0:2]\n",
    "print(x_data)\n",
    "dict=sess.run(hypothesis,feed_dict={X:x_data})\n",
    "print(dict)\n",
    "        \n",
    "#학습된 모델 저장\n",
    "saver=tf.train.Saver()\n",
    "save_path=saver.save(sess,\"./saved_user_3_pattern_model.cpkt\")\n",
    "print(\"학습된 모델 저장 완료\")"
   ]
  },
  {
   "cell_type": "code",
   "execution_count": null,
   "metadata": {},
   "outputs": [],
   "source": []
  }
 ],
 "metadata": {
  "kernelspec": {
   "display_name": "Python 3",
   "language": "python",
   "name": "python3"
  },
  "language_info": {
   "codemirror_mode": {
    "name": "ipython",
    "version": 3
   },
   "file_extension": ".py",
   "mimetype": "text/x-python",
   "name": "python",
   "nbconvert_exporter": "python",
   "pygments_lexer": "ipython3",
   "version": "3.8.5"
  }
 },
 "nbformat": 4,
 "nbformat_minor": 4
}
