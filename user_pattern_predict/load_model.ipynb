{
 "cells": [
  {
   "cell_type": "code",
   "execution_count": 14,
   "metadata": {},
   "outputs": [
    {
     "name": "stdout",
     "output_type": "stream",
     "text": [
      "요일: 4\n",
      "시작시각: 1090\n",
      "INFO:tensorflow:Restoring parameters from ./saved_user_3_pattern_model.cpkt\n",
      "((4.0, 1090.0),)\n",
      "[[257.3853]]\n"
     ]
    }
   ],
   "source": [
    "import tensorflow as tf\n",
    "import tensorflow.compat.v1 as tf\n",
    "tf.disable_v2_behavior()\n",
    "\n",
    "import numpy as np\n",
    "\n",
    "\n",
    "\n",
    "# 플레이스 홀더를 설정합니다.\n",
    "\n",
    "X = tf.placeholder(np.float32, shape=[None, 2])\n",
    "Y = tf.placeholder(np.float32, shape=[None, 1])\n",
    "\n",
    "\n",
    "W = tf.Variable(tf.random_normal([2, 1]), name=\"weight\")\n",
    "b = tf.Variable(tf.random_normal([1]), name=\"bias\")\n",
    "\n",
    "\n",
    "\n",
    "# 가설을 설정합니다.\n",
    "\n",
    "hypothesis = tf.matmul(X, W) + b\n",
    "\n",
    "\n",
    "\n",
    "# 저장된 모델을 불러오는 객체를 선언합니다.\n",
    "\n",
    "saver = tf.train.Saver()\n",
    "model = tf.global_variables_initializer()\n",
    "\n",
    "\n",
    "\n",
    "# 3가지 변수를 입력 받습니다.\n",
    "\n",
    "# user_id = float(input('아이디: '))\n",
    "dow = float(input('요일: '))\n",
    "StartTime = float(input('시작시각: '))\n",
    "\n",
    "\n",
    "\n",
    "with tf.Session() as sess:\n",
    "    sess.run(model)\n",
    "\n",
    "\n",
    "    # 저장된 학습 모델을 파일로부터 불러옵니다.\n",
    "\n",
    "    save_path = \"./saved_user_3_pattern_model.cpkt\"\n",
    "    saver.restore(sess, save_path)\n",
    "\n",
    "    # 사용자의 입력 값을 이용해 배열을 만듭니다.\n",
    "\n",
    "    data = ((dow, StartTime),) \n",
    "    print(data)\n",
    "#         data = ((user_id, dow, StartTime), )\n",
    "    arr = np.array(data, dtype=np.float32)\n",
    "\n",
    "    # 예측을 수행한 뒤에 그 결과를 출력합니다.\n",
    "\n",
    "    x_data = arr[0:4]\n",
    "    predict = sess.run(hypothesis, feed_dict={X: x_data})\n",
    "    print(predict)\n"
   ]
  }
 ],
 "metadata": {
  "kernelspec": {
   "display_name": "Python 3",
   "language": "python",
   "name": "python3"
  },
  "language_info": {
   "codemirror_mode": {
    "name": "ipython",
    "version": 3
   },
   "file_extension": ".py",
   "mimetype": "text/x-python",
   "name": "python",
   "nbconvert_exporter": "python",
   "pygments_lexer": "ipython3",
   "version": "3.8.5"
  }
 },
 "nbformat": 4,
 "nbformat_minor": 4
}
